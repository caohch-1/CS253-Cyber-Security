{
 "cells": [
  {
   "cell_type": "code",
   "execution_count": 1,
   "id": "2432e711",
   "metadata": {
    "pycharm": {
     "is_executing": true
    }
   },
   "outputs": [],
   "source": [
    "from tensorflow.keras.datasets import mnist\n",
    "from tensorflow.keras.utils import to_categorical\n",
    "from tensorflow.keras.models import Sequential\n",
    "from tensorflow.keras.layers import Dense"
   ]
  },
  {
   "cell_type": "code",
   "execution_count": 2,
   "id": "db2e8cae",
   "metadata": {},
   "outputs": [
    {
     "name": "stdout",
     "output_type": "stream",
     "text": [
      "(60000, 784) (60000, 10) (10000, 784) (10000, 10)\n"
     ]
    }
   ],
   "source": [
    "# load train and test dataset\n",
    "def load_dataset():\n",
    "    # load dataset\n",
    "    (trainX, trainY), (testX, testY) = mnist.load_data()\n",
    "    # data pre-process\n",
    "    trainX = trainX.reshape(60000, 784)\n",
    "    testX = testX.reshape(10000, 784)\n",
    "    trainX = trainX.astype('float32')/255.0\n",
    "    testX = testX.astype('float32')/255.0\n",
    "    trainY = to_categorical(trainY)\n",
    "    testY = to_categorical(testY)\n",
    "    return trainX, trainY, testX, testY\n",
    "\n",
    "trainX, trainY, testX, testY = load_dataset()\n",
    "print(trainX.shape, trainY.shape, testX.shape, testY.shape)"
   ]
  },
  {
   "cell_type": "code",
   "execution_count": 3,
   "id": "aead796a",
   "metadata": {},
   "outputs": [
    {
     "name": "stdout",
     "output_type": "stream",
     "text": [
      "Model: \"sequential\"\n",
      "_________________________________________________________________\n",
      "Layer (type)                 Output Shape              Param #   \n",
      "=================================================================\n",
      "dense (Dense)                (None, 10)                7850      \n",
      "_________________________________________________________________\n",
      "dense_1 (Dense)              (None, 10)                110       \n",
      "_________________________________________________________________\n",
      "dense_2 (Dense)              (None, 10)                110       \n",
      "_________________________________________________________________\n",
      "dense_3 (Dense)              (None, 10)                110       \n",
      "=================================================================\n",
      "Total params: 8,180\n",
      "Trainable params: 8,180\n",
      "Non-trainable params: 0\n",
      "_________________________________________________________________\n"
     ]
    },
    {
     "name": "stderr",
     "output_type": "stream",
     "text": [
      "2022-11-07 11:53:23.112997: I tensorflow/core/platform/cpu_feature_guard.cc:145] This TensorFlow binary is optimized with Intel(R) MKL-DNN to use the following CPU instructions in performance critical operations:  SSE4.1 SSE4.2\n",
      "To enable them in non-MKL-DNN operations, rebuild TensorFlow with the appropriate compiler flags.\n",
      "2022-11-07 11:53:23.113316: I tensorflow/core/common_runtime/process_util.cc:115] Creating new thread pool with default inter op setting: 8. Tune using inter_op_parallelism_threads for best performance.\n"
     ]
    }
   ],
   "source": [
    "model = Sequential()\n",
    "model.add(Dense(units=10, input_dim=784, activation=\"relu\", kernel_initializer='he_uniform'))\n",
    "model.add(Dense(units=10, activation=\"relu\", kernel_initializer='he_uniform'))\n",
    "model.add(Dense(units=10, activation=\"relu\", kernel_initializer='he_uniform'))\n",
    "model.add(Dense(units=10, activation=\"softmax\", kernel_initializer='he_uniform'))\n",
    "model.compile(optimizer=\"adam\", loss=\"categorical_crossentropy\", metrics=[\"accuracy\"])\n",
    "model.summary()"
   ]
  },
  {
   "cell_type": "code",
   "execution_count": 4,
   "id": "e5727412",
   "metadata": {},
   "outputs": [
    {
     "name": "stdout",
     "output_type": "stream",
     "text": [
      "Train on 45000 samples, validate on 15000 samples\n",
      "Epoch 1/20\n",
      "45000/45000 - 1s - loss: 1.4960 - accuracy: 0.4906 - val_loss: 0.8788 - val_accuracy: 0.7063\n",
      "Epoch 2/20\n",
      "45000/45000 - 1s - loss: 0.5890 - accuracy: 0.8289 - val_loss: 0.4298 - val_accuracy: 0.8783\n",
      "Epoch 3/20\n",
      "45000/45000 - 1s - loss: 0.3994 - accuracy: 0.8895 - val_loss: 0.3606 - val_accuracy: 0.8968\n",
      "Epoch 4/20\n",
      "45000/45000 - 1s - loss: 0.3438 - accuracy: 0.9042 - val_loss: 0.3318 - val_accuracy: 0.9051\n",
      "Epoch 5/20\n",
      "45000/45000 - 1s - loss: 0.3154 - accuracy: 0.9114 - val_loss: 0.3088 - val_accuracy: 0.9117\n",
      "Epoch 6/20\n",
      "45000/45000 - 1s - loss: 0.2951 - accuracy: 0.9164 - val_loss: 0.2988 - val_accuracy: 0.9148\n",
      "Epoch 7/20\n",
      "45000/45000 - 1s - loss: 0.2832 - accuracy: 0.9188 - val_loss: 0.2875 - val_accuracy: 0.9207\n",
      "Epoch 8/20\n",
      "45000/45000 - 1s - loss: 0.2716 - accuracy: 0.9235 - val_loss: 0.2843 - val_accuracy: 0.9203\n",
      "Epoch 9/20\n",
      "45000/45000 - 1s - loss: 0.2631 - accuracy: 0.9246 - val_loss: 0.2765 - val_accuracy: 0.9235\n",
      "Epoch 10/20\n",
      "45000/45000 - 1s - loss: 0.2543 - accuracy: 0.9273 - val_loss: 0.2751 - val_accuracy: 0.9238\n",
      "Epoch 11/20\n",
      "45000/45000 - 1s - loss: 0.2469 - accuracy: 0.9302 - val_loss: 0.2690 - val_accuracy: 0.9261\n",
      "Epoch 12/20\n",
      "45000/45000 - 1s - loss: 0.2395 - accuracy: 0.9328 - val_loss: 0.2644 - val_accuracy: 0.9263\n",
      "Epoch 13/20\n",
      "45000/45000 - 1s - loss: 0.2318 - accuracy: 0.9342 - val_loss: 0.2585 - val_accuracy: 0.9286\n",
      "Epoch 14/20\n",
      "45000/45000 - 1s - loss: 0.2255 - accuracy: 0.9363 - val_loss: 0.2583 - val_accuracy: 0.9295\n",
      "Epoch 15/20\n",
      "45000/45000 - 1s - loss: 0.2210 - accuracy: 0.9383 - val_loss: 0.2565 - val_accuracy: 0.9285\n",
      "Epoch 16/20\n",
      "45000/45000 - 1s - loss: 0.2168 - accuracy: 0.9380 - val_loss: 0.2575 - val_accuracy: 0.9300\n",
      "Epoch 17/20\n",
      "45000/45000 - 1s - loss: 0.2144 - accuracy: 0.9394 - val_loss: 0.2566 - val_accuracy: 0.9283\n",
      "Epoch 18/20\n",
      "45000/45000 - 1s - loss: 0.2086 - accuracy: 0.9413 - val_loss: 0.2555 - val_accuracy: 0.9304\n",
      "Epoch 19/20\n",
      "45000/45000 - 1s - loss: 0.2074 - accuracy: 0.9420 - val_loss: 0.2562 - val_accuracy: 0.9293\n",
      "Epoch 20/20\n",
      "45000/45000 - 1s - loss: 0.2041 - accuracy: 0.9429 - val_loss: 0.2507 - val_accuracy: 0.9317\n"
     ]
    }
   ],
   "source": [
    "train_history =model.fit(x=trainX, y=trainY, validation_split=0.25, epochs=20, batch_size=200, verbose=2)"
   ]
  },
  {
   "cell_type": "code",
   "execution_count": 5,
   "id": "4417eaad",
   "metadata": {},
   "outputs": [
    {
     "name": "stdout",
     "output_type": "stream",
     "text": [
      "Test acc= 0.9305\n"
     ]
    }
   ],
   "source": [
    "scores = model.evaluate(testX, testY, verbose=0)\n",
    "print(\"Test acc=\",scores[1])"
   ]
  }
 ],
 "metadata": {
  "kernelspec": {
   "display_name": "cs231n",
   "language": "python",
   "name": "cs231n"
  },
  "language_info": {
   "codemirror_mode": {
    "name": "ipython",
    "version": 3
   },
   "file_extension": ".py",
   "mimetype": "text/x-python",
   "name": "python",
   "nbconvert_exporter": "python",
   "pygments_lexer": "ipython3",
   "version": "3.7.13"
  }
 },
 "nbformat": 4,
 "nbformat_minor": 5
}
